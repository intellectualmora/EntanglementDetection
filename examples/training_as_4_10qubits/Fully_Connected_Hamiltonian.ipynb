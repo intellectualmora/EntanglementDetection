{
 "cells": [
  {
   "cell_type": "markdown",
   "metadata": {
    "collapsed": true,
    "pycharm": {
     "name": "#%% md\n"
    }
   },
   "source": [
    "## Fully_Connected_Hamiltonian"
   ]
  },
  {
   "cell_type": "code",
   "execution_count": 1,
   "outputs": [
    {
     "name": "stdout",
     "output_type": "stream",
     "text": [
      "INFO:torch.distributed.distributed_c10d:Added key: store_based_barrier_key:1 to store for rank: 0\n",
      "INFO:torch.distributed.distributed_c10d:Rank 0: Completed store-based barrier for key:store_based_barrier_key:1 with 1 nodes.\n"
     ]
    }
   ],
   "source": [
    "import os\n",
    "from torch import nn\n",
    "from modules import utils\n",
    "import logging\n",
    "logging.getLogger('matplotlib').setLevel(logging.WARNING)\n",
    "logging.getLogger('numba').setLevel(logging.WARNING)\n",
    "import torch\n",
    "import torch.multiprocessing as mp\n",
    "from modules.utils import CONFIG_PATH\n",
    "from modules.data_loader import StaticDataset,DynamicDataset\n",
    "from torch.utils.data import DataLoader\n",
    "from modules.models import BPNet, RNN_50_100\n",
    "import numpy as np\n",
    "import torch.distributed as dist\n",
    "from torch.nn.parallel import DistributedDataParallel as DDP\n",
    "import matplotlib.pylab as plt\n",
    "assert torch.cuda.is_available(), \"CPU training is not allowed.\"\n",
    "hps = utils.get_hparams(config_path=\"Fully_Connected_config.json\")\n",
    "os.environ['MASTER_ADDR'] = '127.0.0.1'\n",
    "os.environ['MASTER_PORT'] = hps.train.port\n",
    "n_gpus = torch.cuda.device_count()\n",
    "dist.init_process_group(backend= 'gloo' if os.name == 'nt' else 'nccl', init_method='env://', world_size=n_gpus, rank=0)"
   ],
   "metadata": {
    "collapsed": false,
    "pycharm": {
     "name": "#%%\n"
    }
   }
  },
  {
   "cell_type": "code",
   "execution_count": 2,
   "outputs": [],
   "source": [
    "def draw_heatmap(loss_matrix,xLabel,yLabel):\n",
    "    fig = plt.figure()\n",
    "    # 定义画布为1*1个划分，并在第1个位置上进行作图\n",
    "    ax = fig.add_subplot(111)\n",
    "    # 定义横纵坐标的刻度\n",
    "    ax.set_yticks(range(len(yLabel)))\n",
    "    ax.set_yticklabels(yLabel)\n",
    "    ax.set_xticks(range(len(xLabel)))\n",
    "    ax.set_xticklabels(xLabel)\n",
    "    # 作图并选择热图的颜色填充风格，这里选择hot\n",
    "    minys = []\n",
    "    minxs = []\n",
    "    counter = 0\n",
    "    for col in loss_matrix.T:\n",
    "        min = 999999\n",
    "        minit = -1\n",
    "        tempcol = list(col)\n",
    "        for it in tempcol:\n",
    "            if abs(it-0.005)<min:\n",
    "                min = abs(it-0.005)\n",
    "                minit = tempcol.index(it)\n",
    "       #col[minit] = 1\n",
    "        minxs.append(counter)\n",
    "        minys.append(minit)\n",
    "        counter+=1\n",
    "    plt.plot(minxs,minys)\n",
    "    plt.scatter(minxs,minys)\n",
    "    im = ax.imshow(loss_matrix, cmap=plt.cm.hot_r,vmin=0)#)\n",
    "    # 增加右侧的颜色刻度条\n",
    "    plt.colorbar(im)\n",
    "    # 增加标题\n",
    "    #plt.title(\"This is a title\", fontproperties=font)\n",
    "    # show\n",
    "    plt.show()\n",
    "\n",
    "def infer(test_loader,hps):\n",
    "    model = torch.load(hps.infer.model_dir)  # 读取模型\n",
    "    model = DDP(model, device_ids=[0], find_unused_parameters=True)\n",
    "    model.eval()\n",
    "    inputs, outputs, infers = None, None, None\n",
    "    for batch_idx, items in enumerate(test_loader):\n",
    "        input_data, output_data = items\n",
    "        input_data = input_data.cuda(0, non_blocking=True)\n",
    "        output_data = output_data.cuda(0, non_blocking=True)\n",
    "        if batch_idx == 0:\n",
    "            infers = model(input_data)\n",
    "            inputs = input_data\n",
    "            outputs = output_data\n",
    "        else:\n",
    "            infers = torch.cat([infers, model(input_data)], dim=0)\n",
    "            inputs = torch.cat([inputs, input_data], dim=0)\n",
    "            outputs = torch.cat([outputs, output_data], dim=0)\n",
    "    lossfunc = nn.MSELoss()\n",
    "    loss = lossfunc(infers,outputs).item()\n",
    "    return loss"
   ],
   "metadata": {
    "collapsed": false,
    "pycharm": {
     "name": "#%%\n"
    }
   }
  },
  {
   "cell_type": "code",
   "execution_count": 3,
   "outputs": [
    {
     "data": {
      "text/plain": "<Figure size 432x288 with 2 Axes>",
      "image/png": "[encoded data removed]"
     },
     "metadata": {
      "needs_background": "light"
     },
     "output_type": "display_data"
    }
   ],
   "source": [
    "col_label = ['4','5','6','7','8','9','10']\n",
    "row_label = ['1000','2000','4000','6000','8000','10000','12000','14000','16000','18000','20000','22000','24000','26000','28000','30000']\n",
    "row_label = row_label[::-1]\n",
    "loss_matrix = np.zeros([len(row_label),len(col_label)])\n",
    "num_workers = 5 if mp.cpu_count() > 4 else mp.cpu_count()\n",
    "for qubit in col_label:\n",
    "    i = col_label.index(qubit)\n",
    "    hps.data.test_dataset_path = \"../../datasets/mat/static/training_as_4_10qubits/Fully_Connected_Hamiltonian_model/%squbit/test/%sbit.mat\"%(qubit,qubit)\n",
    "    test_dataset = StaticDataset(hps, \"test\") if hps.data.type == \"static\" else DynamicDataset(hps,\"test\")\n",
    "    test_loader = DataLoader(test_dataset, num_workers=num_workers, shuffle=False, pin_memory=True,\n",
    "                             batch_size=hps.infer.batch_size)\n",
    "    for num_train in row_label:\n",
    "        hps.infer.model_dir = \"../../weights/training_as_4_10qubits/fully connected Hamiltonian model/%sbit_%s.pth\"%(qubit,num_train)\n",
    "        j = row_label.index(num_train)\n",
    "        loss_matrix[j,i] = infer(test_loader,hps)\n",
    "draw_heatmap(loss_matrix,col_label,row_label)"
   ],
   "metadata": {
    "collapsed": false,
    "pycharm": {
     "name": "#%%\n"
    }
   }
  }
 ],
 "metadata": {
  "kernelspec": {
   "display_name": "Python 3",
   "language": "python",
   "name": "python3"
  },
  "language_info": {
   "codemirror_mode": {
    "name": "ipython",
    "version": 2
   },
   "file_extension": ".py",
   "mimetype": "text/x-python",
   "name": "python",
   "nbconvert_exporter": "python",
   "pygments_lexer": "ipython2",
   "version": "2.7.6"
  }
 },
 "nbformat": 4,
 "nbformat_minor": 0
}